{
 "cells": [
  {
   "cell_type": "code",
   "execution_count": 8,
   "metadata": {},
   "outputs": [
    {
     "name": "stdout",
     "output_type": "stream",
     "text": [
      "번역 전: 자\n",
      "번역 후: ja\n"
     ]
    }
   ],
   "source": [
    "def translate(phrase):\n",
    "    translation = \"\" #\n",
    "    for letter in phrase:\n",
    "        if letter in '자':\n",
    "            translation = translation + \"ja\" # 자일 경우에 ja로 변환\n",
    "        else: # '자'가 없을 시\n",
    "            translation = translation + letter\n",
    "    return (\"번역 후: \"+translation)\n",
    "\n",
    "print(translate(input(\"번역 전: \")))\n"
   ]
  }
 ],
 "metadata": {
  "kernelspec": {
   "display_name": "Python 3",
   "language": "python",
   "name": "python3"
  },
  "language_info": {
   "codemirror_mode": {
    "name": "ipython",
    "version": 3
   },
   "file_extension": ".py",
   "mimetype": "text/x-python",
   "name": "python",
   "nbconvert_exporter": "python",
   "pygments_lexer": "ipython3",
   "version": "3.7.4"
  }
 },
 "nbformat": 4,
 "nbformat_minor": 2
}
